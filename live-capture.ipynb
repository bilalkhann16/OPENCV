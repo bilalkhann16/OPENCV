{
 "cells": [
  {
   "cell_type": "code",
   "execution_count": 1,
   "id": "7f4fd240-db8a-424c-a45e-8e85f386a75c",
   "metadata": {},
   "outputs": [],
   "source": [
    "import time\n",
    "from io import BytesIO\n",
    "import cv2 as cv\n",
    "import IPython"
   ]
  },
  {
   "cell_type": "code",
   "execution_count": null,
   "id": "68a901e2-9a4d-441b-9860-e3a684495157",
   "metadata": {},
   "outputs": [],
   "source": [
    "def play_demo():\n",
    "    # IPython display preparation\n",
    "    notebook_display = IPython.display.display(\"\", display_id=1)\n",
    "\n",
    "    # capture the input from cam.\n",
    "    cap = cv.VideoCapture(0)\n",
    "    cap.set(cv.CAP_PROP_FRAME_WIDTH, 640)\n",
    "    cap.set(cv.CAP_PROP_FRAME_HEIGHT, 360)\n",
    "\n",
    "    while cap.isOpened():\n",
    "        ret, frame = cap.read()\n",
    "        if ret is False:\n",
    "            print (\"Print break\")\n",
    "            break\n",
    "\n",
    "        _, frame = cv.imencode('.jpg', frame, [int(cv.IMWRITE_JPEG_QUALITY), 100])\n",
    "        frame_buffer = BytesIO(frame)\n",
    "        notebook_display.update(IPython.display.Image(data=frame_buffer.getvalue()))\n",
    "        \n",
    "    cap.release()\n",
    "    cv.destroyAllWindows()"
   ]
  },
  {
   "cell_type": "code",
   "execution_count": null,
   "id": "1d6a5610-473d-4ee9-bf05-543291a68658",
   "metadata": {},
   "outputs": [],
   "source": [
    "play_demo()"
   ]
  },
  {
   "cell_type": "code",
   "execution_count": null,
   "id": "8417e53e-ea91-47ce-8bdc-19a137521ab9",
   "metadata": {},
   "outputs": [],
   "source": []
  }
 ],
 "metadata": {
  "kernelspec": {
   "display_name": "Python 3",
   "language": "python",
   "name": "python3"
  },
  "language_info": {
   "codemirror_mode": {
    "name": "ipython",
    "version": 3
   },
   "file_extension": ".py",
   "mimetype": "text/x-python",
   "name": "python",
   "nbconvert_exporter": "python",
   "pygments_lexer": "ipython3",
   "version": "3.8.8"
  }
 },
 "nbformat": 4,
 "nbformat_minor": 5
}
